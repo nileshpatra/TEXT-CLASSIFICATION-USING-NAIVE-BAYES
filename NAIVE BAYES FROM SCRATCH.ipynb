{
 "cells": [
  {
   "cell_type": "code",
   "execution_count": 1,
   "metadata": {},
   "outputs": [],
   "source": [
    "import numpy as np\n",
    "import os\n",
    "import matplotlib.pyplot as plt\n",
    "from sklearn.model_selection import train_test_split\n",
    "from sklearn.naive_bayes import MultinomialNB\n",
    "from sklearn.metrics import confusion_matrix , classification_report"
   ]
  },
  {
   "cell_type": "code",
   "execution_count": 2,
   "metadata": {},
   "outputs": [],
   "source": [
    "#Initialized two list X , Y\n",
    "# X stores all the document names and document words (the words in them)\n",
    "# Y stores the categories of all the documents\n",
    "X = [] \n",
    "Y = []\n",
    "#loading files from directory where catg is the category of the file\n",
    "for catg in os.listdir('20_newsgroups'):\n",
    "    #loading docs in the folder or list of directories\n",
    "    for doc in os.listdir('20_newsgroups/' + catg):\n",
    "        #opened the document as a file and reading from it\n",
    "        with open('20_newsgroups/' + catg + '/' + doc) as file:\n",
    "            #appening file words to x and category to y\n",
    "            X.append((doc , file.read()))\n",
    "            Y.append(catg)"
   ]
  },
  {
   "cell_type": "code",
   "execution_count": 3,
   "metadata": {},
   "outputs": [],
   "source": [
    "#splitting data into training and testing\n",
    "X_train , X_test , Y_train , Y_test = train_test_split(X , Y)"
   ]
  },
  {
   "cell_type": "code",
   "execution_count": 4,
   "metadata": {},
   "outputs": [],
   "source": [
    "#loading a list of stopwords from ntlk library for NLP\n",
    "from nltk.corpus import stopwords\n",
    "stopwords = stopwords.words(\"english\")\n",
    "#added I as it gave a good improvement in score\n",
    "stopwords.append('I')"
   ]
  },
  {
   "cell_type": "code",
   "execution_count": 5,
   "metadata": {},
   "outputs": [
    {
     "data": {
      "text/plain": [
       "324785"
      ]
     },
     "execution_count": 5,
     "metadata": {},
     "output_type": "execute_result"
    }
   ],
   "source": [
    "# loading all words to a dictionary named vocabulary mapped to their respective frequencies\n",
    "vocabulary = {}\n",
    "for i in range(len(X_train)):\n",
    "    #all the words are stored in 1th(indexwise) column of X as the 0th one conatins the name of doc\n",
    "    for word in X_train[i][1].strip().split():\n",
    "        new_word = word.lower()\n",
    "        #creating a vocabulary , adding a word if not present , and if present, incrementing freq by 1\n",
    "        if word not in stopwords: #add only if not a stopword\n",
    "            if word in vocabulary:\n",
    "                vocabulary[word] += 1\n",
    "            else:\n",
    "                vocabulary[word] = 1\n",
    "len(vocabulary)"
   ]
  },
  {
   "cell_type": "code",
   "execution_count": 6,
   "metadata": {},
   "outputs": [
    {
     "data": {
      "text/plain": [
       "Text(0.5,1,'Graph of words vs frequency')"
      ]
     },
     "execution_count": 6,
     "metadata": {},
     "output_type": "execute_result"
    },
    {
     "data": {
      "image/png": "[encoded data removed]",
      "text/plain": [
       "<Figure size 432x288 with 1 Axes>"
      ]
     },
     "metadata": {},
     "output_type": "display_data"
    }
   ],
   "source": [
    "size = max(vocabulary.values()) + 1\n",
    "l = [0 for i in range(size)]\n",
    "#adding number of words at an index with their freq equal to tht particular index\n",
    "for keys in vocabulary.keys():\n",
    "    l[vocabulary[keys]] += 1\n",
    "#determining the frequecy of all words\n",
    "frequency = [i for i in range(max(vocabulary.values())+1)] \n",
    "#plotted graph for freq of words and num of words to determine cutoff frequency\n",
    "plt.plot(frequency , l)\n",
    "plt.axis([1, 10 , 0 ,100000])\n",
    "plt.title('Graph of words vs frequency')"
   ]
  },
  {
   "cell_type": "code",
   "execution_count": 7,
   "metadata": {},
   "outputs": [
    {
     "name": "stdout",
     "output_type": "stream",
     "text": [
      "words above the cutoff are : 2727\n"
     ]
    }
   ],
   "source": [
    "#determining num of words above cutoff\n",
    "#there are decently many words with above 100 frequency , and many redundant words are thus removed\n",
    "cutoff = 100\n",
    "words_above_cutoff  = len(vocabulary) - sum(l[0:100])\n",
    "print('words above the cutoff are :' , words_above_cutoff)"
   ]
  },
  {
   "cell_type": "code",
   "execution_count": 8,
   "metadata": {},
   "outputs": [],
   "source": [
    "#appending final words that we want to use as features based on frequency onto a dictionary\n",
    "final_features = []\n",
    "for key in vocabulary.keys():\n",
    "    #we append words with frequency greater than 100 onto the final_features list\n",
    "    if vocabulary[key] >= 100:\n",
    "        final_features.append(key)"
   ]
  },
  {
   "cell_type": "code",
   "execution_count": 9,
   "metadata": {},
   "outputs": [],
   "source": [
    "# creating a dataframe of training dataset with chosen words as features\n",
    "# adding the frequncy of a word\n",
    "final_train_dataset = np.zeros((len(X_train) , len(final_features)))\n",
    "for i in range(len(X_train)):\n",
    "    list_of_words = [ word.strip() for word in X_train[i][1].split()]\n",
    "    for word in list_of_words:\n",
    "        if word in final_features:\n",
    "            final_train_dataset[i][final_features.index(word)] += 1"
   ]
  },
  {
   "cell_type": "code",
   "execution_count": 10,
   "metadata": {},
   "outputs": [],
   "source": [
    "# creating a dataframe of testing dataset with chosen words as features\n",
    "# adding the frequncy of a word\n",
    "final_test_dataset = np.zeros((len(X_test) , len(final_features)))\n",
    "for i in range(len(X_test)):\n",
    "    list_of_words = [ word.strip() for word in X_test[i][1].split()]\n",
    "    for word in list_of_words:\n",
    "        if word in final_features:\n",
    "            final_test_dataset[i][final_features.index(word)] += 1"
   ]
  },
  {
   "cell_type": "code",
   "execution_count": 11,
   "metadata": {},
   "outputs": [
    {
     "name": "stdout",
     "output_type": "stream",
     "text": [
      "                          precision    recall  f1-score   support\n",
      "\n",
      "             alt.atheism       0.93      0.91      0.92       273\n",
      "           comp.graphics       0.72      0.78      0.75       240\n",
      " comp.os.ms-windows.misc       0.82      0.84      0.83       260\n",
      "comp.sys.ibm.pc.hardware       0.84      0.83      0.83       241\n",
      "   comp.sys.mac.hardware       0.89      0.84      0.86       280\n",
      "          comp.windows.x       0.80      0.90      0.85       222\n",
      "            misc.forsale       0.86      0.72      0.78       309\n",
      "               rec.autos       0.94      0.84      0.89       265\n",
      "         rec.motorcycles       0.92      0.87      0.90       272\n",
      "      rec.sport.baseball       0.91      0.82      0.86       260\n",
      "        rec.sport.hockey       0.76      0.96      0.85       198\n",
      "               sci.crypt       0.87      0.95      0.91       218\n",
      "         sci.electronics       0.82      0.75      0.79       252\n",
      "                 sci.med       0.85      0.94      0.89       229\n",
      "               sci.space       0.84      0.90      0.87       237\n",
      "  soc.religion.christian       0.99      0.99      0.99       244\n",
      "      talk.politics.guns       0.67      0.81      0.73        37\n",
      "\n",
      "             avg / total       0.86      0.86      0.86      4037\n",
      "\n",
      "[[249   3   0   0   0   1   0   2   0   2   4   2   1   4   4   0   1]\n",
      " [  1 187   9   2   2   9   5   0   1   0   0   6   6   5   7   0   0]\n",
      " [  0   9 218   7   3  14   3   0   0   0   0   3   0   2   1   0   0]\n",
      " [  0   9  10 199   5   6   5   0   0   1   1   0   5   0   0   0   0]\n",
      " [  0   9   4  14 234   3   3   0   1   2   1   1   7   0   1   0   0]\n",
      " [  0  11   7   2   1 199   0   0   0   0   0   0   2   0   0   0   0]\n",
      " [  2  13   7   6  10   3 221   2   7   5   4   7  10   6   5   1   0]\n",
      " [  1   1   1   0   0   1   7 222   5   3   2   1   5   9   5   0   2]\n",
      " [  5   3   1   0   1   5   0   3 237   1   6   2   0   1   4   0   3]\n",
      " [  1   1   0   0   0   0   0   0   0 213  42   0   0   1   1   0   1]\n",
      " [  0   0   0   0   0   0   0   1   0   5 190   0   0   1   0   0   1]\n",
      " [  1   1   0   0   1   1   1   1   0   0   0 208   1   1   1   0   1]\n",
      " [  2   6   5   6   5   6   8   4   0   2   1   5 190   4   5   1   2]\n",
      " [  4   2   0   0   0   0   1   0   1   1   0   1   1 215   3   0   0]\n",
      " [  1   4   3   0   0   1   1   0   3   0   0   1   3   2 214   0   4]\n",
      " [  0   0   0   0   0   0   1   0   0   0   0   1   0   0   1 241   0]\n",
      " [  0   1   1   0   0   0   0   0   2   0   0   0   0   1   2   0  30]]\n",
      "Score using sklearn NB classifier 0.8588060440921477\n"
     ]
    }
   ],
   "source": [
    "# applying inbuilt algorithm to determine score\n",
    "\n",
    "from sklearn.naive_bayes import MultinomialNB\n",
    "clf = MultinomialNB()\n",
    "clf.fit(final_train_dataset , Y_train)\n",
    "Y_pred = clf.predict(final_test_dataset)\n",
    "print(classification_report(Y_pred , Y_test))\n",
    "print((confusion_matrix(Y_pred , Y_test)))\n",
    "print('Score using sklearn NB classifier' , clf.score(final_test_dataset , Y_test))"
   ]
  },
  {
   "cell_type": "code",
   "execution_count": 12,
   "metadata": {},
   "outputs": [],
   "source": [
    "#Fitting the data and creating the dictionary to calculate probability\n",
    "#the dictionary has 2 levels : the first one conatins classes as keys\n",
    "# the second level contains document names\n",
    "#it has total as a key meaning total datapoints\n",
    "def fit(x , y):   \n",
    "        res = {}\n",
    "        classes = set(y)\n",
    "        for cls in classes:\n",
    "            res[cls] = {}\n",
    "            for i in range(len(x[0])):\n",
    "                res[cls][i] = 0\n",
    "            res[cls]['total'] = 0\n",
    "        res['total_points'] = len(x)\n",
    "        \n",
    "        for i in range(len(x)):\n",
    "            for j in range(len(x[0])):\n",
    "                res[y[i]][j] += x[i][j] #freq of words in a particular class\n",
    "            res[y[i]]['total'] += 1   \n",
    "        return res"
   ]
  },
  {
   "cell_type": "code",
   "execution_count": 13,
   "metadata": {},
   "outputs": [],
   "source": [
    "# calculating log probability\n",
    "def probability(res , x , class_value):\n",
    "        log_prob = np.log(res[class_value]['total']) - np.log(res['total_points'])\n",
    "        total_words = len(x)\n",
    "        for i in range(len(x)):\n",
    "            #implementing the laplace correction\n",
    "            current_word_prob = x[i]*(np.log(res[class_value][i]+1)-np.log(res[class_value]['total']+total_words))\n",
    "            log_prob += current_word_prob\n",
    "        return log_prob"
   ]
  },
  {
   "cell_type": "code",
   "execution_count": 14,
   "metadata": {},
   "outputs": [],
   "source": [
    "# predicting for a single point in data\n",
    "def predict_one_point(res , x):\n",
    "    best_probability = None\n",
    "    best_class = None\n",
    "    classes = res.keys()\n",
    "    run = True\n",
    "    for cls in classes:\n",
    "        if cls == 'total_points':\n",
    "            continue\n",
    "        prob = probability(res , x , cls)\n",
    "        if run or best_probability < prob :\n",
    "            best_probability = prob\n",
    "            best_class = cls\n",
    "        run = False\n",
    "    return best_class"
   ]
  },
  {
   "cell_type": "code",
   "execution_count": 15,
   "metadata": {},
   "outputs": [],
   "source": [
    "# predict function : returns a list with the predictions\n",
    "def predict(res , x):\n",
    "    y_pred = []\n",
    "    for test in x:\n",
    "        y_pred.append(predict_one_point(res , test))\n",
    "    return y_pred"
   ]
  },
  {
   "cell_type": "code",
   "execution_count": 16,
   "metadata": {},
   "outputs": [],
   "source": [
    "# calculating score to determine how accurate we are\n",
    "def score(y_pred , y):\n",
    "    cnt = 0\n",
    "    for i in range(len(y)):\n",
    "        if y_pred[i] == y[i]:\n",
    "            cnt = cnt + 1\n",
    "    return cnt/len(y)"
   ]
  },
  {
   "cell_type": "code",
   "execution_count": 17,
   "metadata": {},
   "outputs": [],
   "source": [
    "#dictionary obtained after fitting the data\n",
    "res = fit(final_train_dataset , Y_train)"
   ]
  },
  {
   "cell_type": "code",
   "execution_count": 18,
   "metadata": {},
   "outputs": [],
   "source": [
    "Y_test_pred = predict(res , final_test_dataset)"
   ]
  },
  {
   "cell_type": "code",
   "execution_count": 19,
   "metadata": {},
   "outputs": [
    {
     "name": "stdout",
     "output_type": "stream",
     "text": [
      "                          precision    recall  f1-score   support\n",
      "\n",
      "             alt.atheism       0.93      0.67      0.78       368\n",
      "           comp.graphics       0.76      0.59      0.66       338\n",
      " comp.os.ms-windows.misc       0.54      0.94      0.69       153\n",
      "comp.sys.ibm.pc.hardware       0.71      0.77      0.74       217\n",
      "   comp.sys.mac.hardware       0.55      0.99      0.71       145\n",
      "          comp.windows.x       0.89      0.77      0.82       288\n",
      "            misc.forsale       0.43      0.97      0.60       114\n",
      "               rec.autos       0.76      0.91      0.83       195\n",
      "         rec.motorcycles       0.56      0.98      0.71       146\n",
      "      rec.sport.baseball       0.80      0.97      0.88       194\n",
      "        rec.sport.hockey       0.96      0.80      0.87       299\n",
      "               sci.crypt       0.98      0.32      0.48       733\n",
      "         sci.electronics       0.42      0.93      0.58       104\n",
      "                 sci.med       0.82      0.83      0.83       247\n",
      "               sci.space       0.74      0.84      0.78       225\n",
      "  soc.religion.christian       1.00      0.89      0.94       271\n",
      "      talk.politics.guns       0.00      0.00      0.00         0\n",
      "\n",
      "             avg / total       0.82      0.73      0.73      4037\n",
      "\n",
      "[[247   2   3   1   2   4   1  11  33  11   4   1   5  17  17   0   9]\n",
      " [  1 198  32  14  22  10  34   0   2   1   0   2  13   4   5   0   0]\n",
      " [  0   1 144   3   1   0   4   0   0   0   0   0   0   0   0   0   0]\n",
      " [  0   0  12 168  15   2  15   0   1   1   0   0   3   0   0   0   0]\n",
      " [  0   0   0   0 144   0   1   0   0   0   0   0   0   0   0   0   0]\n",
      " [  0  16  28   7   5 221   6   1   0   0   0   0   3   1   0   0   0]\n",
      " [  0   0   0   1   1   0 111   0   1   0   0   0   0   0   0   0   0]\n",
      " [  0   0   2   0   0   0   7 178   5   0   0   0   2   1   0   0   0]\n",
      " [  0   0   0   0   0   1   1   0 143   0   1   0   0   0   0   0   0]\n",
      " [  0   0   0   0   1   0   1   0   3 188   0   0   1   0   0   0   0]\n",
      " [  0   2   1   0   2   1  14   3   7  22 240   0   3   1   0   1   2]\n",
      " [  7  32  40  36  63   9  42  33  46   8   5 234  94  15  39   0  30]\n",
      " [  0   0   0   2   0   0   1   2   1   0   0   0  97   1   0   0   0]\n",
      " [  1   4   2   1   6   0   8   3   7   1   0   0   5 206   1   0   2]\n",
      " [  1   5   2   2   0   1   8   3   6   2   0   0   5   1 188   0   1]\n",
      " [ 10   0   0   1   0   0   2   1   2   1   1   1   0   5   4 242   1]\n",
      " [  0   0   0   0   0   0   0   0   0   0   0   0   0   0   0   0   0]]\n",
      "Score using our classifier :  0.7304929403022046\n"
     ]
    },
    {
     "name": "stderr",
     "output_type": "stream",
     "text": [
      "C:\\Users\\NILESH\\Anaconda3\\lib\\site-packages\\sklearn\\metrics\\classification.py:1137: UndefinedMetricWarning: Recall and F-score are ill-defined and being set to 0.0 in labels with no true samples.\n",
      "  'recall', 'true', average, warn_for)\n"
     ]
    }
   ],
   "source": [
    "#printing and determining accuracy through various metrics available in sklearn\n",
    "print(classification_report(Y_test_pred , Y_test))\n",
    "print((confusion_matrix(Y_test_pred , Y_test)))\n",
    "print('Score using our classifier : ' , score(Y_test_pred , Y_test))"
   ]
  }
 ],
 "metadata": {
  "kernelspec": {
   "display_name": "Python 3",
   "language": "python",
   "name": "python3"
  },
  "language_info": {
   "codemirror_mode": {
    "name": "ipython",
    "version": 3
   },
   "file_extension": ".py",
   "mimetype": "text/x-python",
   "name": "python",
   "nbconvert_exporter": "python",
   "pygments_lexer": "ipython3",
   "version": "3.6.5"
  }
 },
 "nbformat": 4,
 "nbformat_minor": 2
}
